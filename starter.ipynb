{
 "cells": [
  {
   "cell_type": "code",
   "execution_count": 2,
   "metadata": {},
   "outputs": [
    {
     "name": "stdout",
     "output_type": "stream",
     "text": [
      "The author did not mention anything about their activities or experiences growing up in the provided context information.\n"
     ]
    },
    {
     "data": {
      "text/plain": [
       "Response(response='The author did not mention anything about their activities or experiences growing up in the provided context information.', source_nodes=[NodeWithScore(node=TextNode(id_='fcfa7d9a-ea01-4387-819d-bc431f9a76e5', embedding=None, metadata={'file_path': '/Users/samhernandez/personal/mongo-hackathon/data/readme.txt', 'file_name': 'readme.txt', 'file_type': 'text/plain', 'file_size': 147, 'creation_date': '2024-04-20', 'last_modified_date': '2024-04-20'}, excluded_embed_metadata_keys=['file_name', 'file_type', 'file_size', 'creation_date', 'last_modified_date', 'last_accessed_date'], excluded_llm_metadata_keys=['file_name', 'file_type', 'file_size', 'creation_date', 'last_modified_date', 'last_accessed_date'], relationships={<NodeRelationship.SOURCE: '1'>: RelatedNodeInfo(node_id='edce9706-32ef-4e0a-94f3-01e96b6c7218', node_type=<ObjectType.DOCUMENT: '4'>, metadata={'file_path': '/Users/samhernandez/personal/mongo-hackathon/data/readme.txt', 'file_name': 'readme.txt', 'file_type': 'text/plain', 'file_size': 147, 'creation_date': '2024-04-20', 'last_modified_date': '2024-04-20'}, hash='55925f0fcee2b36e8c2f054f600c713c430da11ae96983cb8a2837dedabc9942')}, text='To download a repository you have to run\\n```\\ngit pull origin master\\n```\\n\\nand to make explode the universe you have to run\\n```\\nuniverse explode\\n```', start_char_idx=0, end_char_idx=146, text_template='{metadata_str}\\n\\n{content}', metadata_template='{key}: {value}', metadata_seperator='\\n'), score=0.6942863847408243)], metadata={'fcfa7d9a-ea01-4387-819d-bc431f9a76e5': {'file_path': '/Users/samhernandez/personal/mongo-hackathon/data/readme.txt', 'file_name': 'readme.txt', 'file_type': 'text/plain', 'file_size': 147, 'creation_date': '2024-04-20', 'last_modified_date': '2024-04-20'}})"
      ]
     },
     "execution_count": 2,
     "metadata": {},
     "output_type": "execute_result"
    }
   ],
   "source": [
    "from llama_index.core import VectorStoreIndex, SimpleDirectoryReader\n",
    "from dotenv import load_dotenv\n",
    "load_dotenv()\n",
    "\n",
    "documents = SimpleDirectoryReader(\"./data\").load_data()\n",
    "\n",
    "index = VectorStoreIndex.from_documents(documents)\n",
    "query_engine = index.as_query_engine()\n",
    "\n",
    "def ask(question):\n",
    "    response = query_engine.query(question)\n",
    "    print(response)\n",
    "    return response\n",
    "\n",
    "ask(\"What did the author do growing up?\")\n"
   ]
  },
  {
   "cell_type": "code",
   "execution_count": 3,
   "metadata": {},
   "outputs": [
    {
     "name": "stdout",
     "output_type": "stream",
     "text": [
      "To clone something from git, you have to run `git pull origin master`.\n"
     ]
    },
    {
     "data": {
      "text/plain": [
       "Response(response='To clone something from git, you have to run `git pull origin master`.', source_nodes=[NodeWithScore(node=TextNode(id_='fcfa7d9a-ea01-4387-819d-bc431f9a76e5', embedding=None, metadata={'file_path': '/Users/samhernandez/personal/mongo-hackathon/data/readme.txt', 'file_name': 'readme.txt', 'file_type': 'text/plain', 'file_size': 147, 'creation_date': '2024-04-20', 'last_modified_date': '2024-04-20'}, excluded_embed_metadata_keys=['file_name', 'file_type', 'file_size', 'creation_date', 'last_modified_date', 'last_accessed_date'], excluded_llm_metadata_keys=['file_name', 'file_type', 'file_size', 'creation_date', 'last_modified_date', 'last_accessed_date'], relationships={<NodeRelationship.SOURCE: '1'>: RelatedNodeInfo(node_id='edce9706-32ef-4e0a-94f3-01e96b6c7218', node_type=<ObjectType.DOCUMENT: '4'>, metadata={'file_path': '/Users/samhernandez/personal/mongo-hackathon/data/readme.txt', 'file_name': 'readme.txt', 'file_type': 'text/plain', 'file_size': 147, 'creation_date': '2024-04-20', 'last_modified_date': '2024-04-20'}, hash='55925f0fcee2b36e8c2f054f600c713c430da11ae96983cb8a2837dedabc9942')}, text='To download a repository you have to run\\n```\\ngit pull origin master\\n```\\n\\nand to make explode the universe you have to run\\n```\\nuniverse explode\\n```', start_char_idx=0, end_char_idx=146, text_template='{metadata_str}\\n\\n{content}', metadata_template='{key}: {value}', metadata_seperator='\\n'), score=0.804312541430302)], metadata={'fcfa7d9a-ea01-4387-819d-bc431f9a76e5': {'file_path': '/Users/samhernandez/personal/mongo-hackathon/data/readme.txt', 'file_name': 'readme.txt', 'file_type': 'text/plain', 'file_size': 147, 'creation_date': '2024-04-20', 'last_modified_date': '2024-04-20'}})"
      ]
     },
     "execution_count": 3,
     "metadata": {},
     "output_type": "execute_result"
    }
   ],
   "source": [
    "ask(\"how do I clone something from git?\")\n"
   ]
  },
  {
   "cell_type": "code",
   "execution_count": null,
   "metadata": {},
   "outputs": [],
   "source": []
  }
 ],
 "metadata": {
  "kernelspec": {
   "display_name": "mongo-hackathon",
   "language": "python",
   "name": "python3"
  },
  "language_info": {
   "codemirror_mode": {
    "name": "ipython",
    "version": 3
   },
   "file_extension": ".py",
   "mimetype": "text/x-python",
   "name": "python",
   "nbconvert_exporter": "python",
   "pygments_lexer": "ipython3",
   "version": "3.10.0"
  }
 },
 "nbformat": 4,
 "nbformat_minor": 2
}
