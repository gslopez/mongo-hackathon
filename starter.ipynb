{
 "cells": [
  {
   "cell_type": "code",
   "execution_count": 6,
   "metadata": {},
   "outputs": [
    {
     "name": "stdout",
     "output_type": "stream",
     "text": [
      "The author did not mention anything about their activities or experiences growing up in the provided context information.\n"
     ]
    },
    {
     "data": {
      "text/plain": [
       "Response(response='The author did not mention anything about their activities or experiences growing up in the provided context information.', source_nodes=[NodeWithScore(node=TextNode(id_='10e5c513-4359-4fef-9773-2e5fc9da4e15', embedding=None, metadata={'file_path': '/Users/gslopez/git_workspaces/mongo-hackathon/data/readme.txt', 'file_name': 'readme.txt', 'file_type': 'text/plain', 'file_size': 71, 'creation_date': '2024-04-20', 'last_modified_date': '2024-04-20'}, excluded_embed_metadata_keys=['file_name', 'file_type', 'file_size', 'creation_date', 'last_modified_date', 'last_accessed_date'], excluded_llm_metadata_keys=['file_name', 'file_type', 'file_size', 'creation_date', 'last_modified_date', 'last_accessed_date'], relationships={<NodeRelationship.SOURCE: '1'>: RelatedNodeInfo(node_id='9e417910-45e1-4a2e-a736-9d3027c09200', node_type=<ObjectType.DOCUMENT: '4'>, metadata={'file_path': '/Users/gslopez/git_workspaces/mongo-hackathon/data/readme.txt', 'file_name': 'readme.txt', 'file_type': 'text/plain', 'file_size': 71, 'creation_date': '2024-04-20', 'last_modified_date': '2024-04-20'}, hash='c0822bea920c939c76e7240ccfaa35eae0474d1dce491ca1b97a3d7a05d4fc8f')}, text='To download a repository you have to run\\n```\\ngit pull origin master\\n```', start_char_idx=0, end_char_idx=71, text_template='{metadata_str}\\n\\n{content}', metadata_template='{key}: {value}', metadata_seperator='\\n'), score=0.6885608331132869)], metadata={'10e5c513-4359-4fef-9773-2e5fc9da4e15': {'file_path': '/Users/gslopez/git_workspaces/mongo-hackathon/data/readme.txt', 'file_name': 'readme.txt', 'file_type': 'text/plain', 'file_size': 71, 'creation_date': '2024-04-20', 'last_modified_date': '2024-04-20'}})"
      ]
     },
     "execution_count": 6,
     "metadata": {},
     "output_type": "execute_result"
    }
   ],
   "source": [
    "from llama_index.core import VectorStoreIndex, SimpleDirectoryReader\n",
    "from dotenv import load_dotenv\n",
    "load_dotenv()\n",
    "\n",
    "documents = SimpleDirectoryReader(\"./data\").load_data()\n",
    "\n",
    "index = VectorStoreIndex.from_documents(documents)\n",
    "query_engine = index.as_query_engine()\n",
    "\n",
    "def ask(question):\n",
    "    response = query_engine.query(question)\n",
    "    print(response)\n",
    "    return response\n",
    "\n",
    "ask(\"What did the author do growing up?\")\n"
   ]
  },
  {
   "cell_type": "code",
   "execution_count": 7,
   "metadata": {},
   "outputs": [
    {
     "name": "stdout",
     "output_type": "stream",
     "text": [
      "To clone a repository from Git, you need to use the `git clone` command followed by the URL of the repository you want to clone. For example:\n",
      "```\n",
      "git clone <repository_URL>\n",
      "```\n"
     ]
    },
    {
     "data": {
      "text/plain": [
       "Response(response='To clone a repository from Git, you need to use the `git clone` command followed by the URL of the repository you want to clone. For example:\\n```\\ngit clone <repository_URL>\\n```', source_nodes=[NodeWithScore(node=TextNode(id_='10e5c513-4359-4fef-9773-2e5fc9da4e15', embedding=None, metadata={'file_path': '/Users/gslopez/git_workspaces/mongo-hackathon/data/readme.txt', 'file_name': 'readme.txt', 'file_type': 'text/plain', 'file_size': 71, 'creation_date': '2024-04-20', 'last_modified_date': '2024-04-20'}, excluded_embed_metadata_keys=['file_name', 'file_type', 'file_size', 'creation_date', 'last_modified_date', 'last_accessed_date'], excluded_llm_metadata_keys=['file_name', 'file_type', 'file_size', 'creation_date', 'last_modified_date', 'last_accessed_date'], relationships={<NodeRelationship.SOURCE: '1'>: RelatedNodeInfo(node_id='9e417910-45e1-4a2e-a736-9d3027c09200', node_type=<ObjectType.DOCUMENT: '4'>, metadata={'file_path': '/Users/gslopez/git_workspaces/mongo-hackathon/data/readme.txt', 'file_name': 'readme.txt', 'file_type': 'text/plain', 'file_size': 71, 'creation_date': '2024-04-20', 'last_modified_date': '2024-04-20'}, hash='c0822bea920c939c76e7240ccfaa35eae0474d1dce491ca1b97a3d7a05d4fc8f')}, text='To download a repository you have to run\\n```\\ngit pull origin master\\n```', start_char_idx=0, end_char_idx=71, text_template='{metadata_str}\\n\\n{content}', metadata_template='{key}: {value}', metadata_seperator='\\n'), score=0.8029981926023242)], metadata={'10e5c513-4359-4fef-9773-2e5fc9da4e15': {'file_path': '/Users/gslopez/git_workspaces/mongo-hackathon/data/readme.txt', 'file_name': 'readme.txt', 'file_type': 'text/plain', 'file_size': 71, 'creation_date': '2024-04-20', 'last_modified_date': '2024-04-20'}})"
      ]
     },
     "execution_count": 7,
     "metadata": {},
     "output_type": "execute_result"
    }
   ],
   "source": [
    "ask(\"how do I clone something from git?\")\n"
   ]
  },
  {
   "cell_type": "code",
   "execution_count": null,
   "metadata": {},
   "outputs": [],
   "source": []
  }
 ],
 "metadata": {
  "kernelspec": {
   "display_name": "mongo-hackathon",
   "language": "python",
   "name": "python3"
  },
  "language_info": {
   "codemirror_mode": {
    "name": "ipython",
    "version": 3
   },
   "file_extension": ".py",
   "mimetype": "text/x-python",
   "name": "python",
   "nbconvert_exporter": "python",
   "pygments_lexer": "ipython3",
   "version": "3.12.2"
  }
 },
 "nbformat": 4,
 "nbformat_minor": 2
}
